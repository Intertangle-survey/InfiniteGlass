{
 "cells": [
  {
   "cell_type": "code",
   "execution_count": 82,
   "metadata": {},
   "outputs": [
    {
     "name": "stdout",
     "output_type": "stream",
     "text": [
      "Populating the interactive namespace from numpy and matplotlib\n"
     ]
    }
   ],
   "source": [
    "%pylab inline\n",
    "import scipy.optimize\n",
    "import rpack\n",
    "import rectpack\n"
   ]
  },
  {
   "cell_type": "code",
   "execution_count": 44,
   "metadata": {},
   "outputs": [
    {
     "data": {
      "image/png": "[encoded data removed]",
      "text/plain": [
       "<Figure size 432x288 with 1 Axes>"
      ]
     },
     "metadata": {
      "needs_background": "light"
     },
     "output_type": "display_data"
    }
   ],
   "source": [
    "wins = [[2,3], [3,2], [1, 1], [1, 3]]\n",
    "\n",
    "\n",
    "positions = rpack.pack(wins)\n",
    "\n",
    "fig,ax = plt.subplots(1)\n",
    "\n",
    "maxx = 0\n",
    "maxy = 0\n",
    "for ((x, y), (w, h)) in zip(positions, wins):\n",
    "    if x + w > maxx: maxx = x+w\n",
    "    if y + h > maxy: maxy = y+h        \n",
    "    rect = matplotlib.patches.Rectangle((x, y),w,h,linewidth=1,edgecolor='b',facecolor='red')\n",
    "    ax.add_patch(rect)\n",
    "\n",
    "ax.set_ylim(0, maxy)\n",
    "ax.set_xlim(0, maxx)\n",
    "\n",
    "plt.show()"
   ]
  },
  {
   "cell_type": "code",
   "execution_count": 31,
   "metadata": {},
   "outputs": [
    {
     "data": {
      "text/plain": [
       "0.125"
      ]
     },
     "execution_count": 31,
     "metadata": {},
     "output_type": "execute_result"
    }
   ],
   "source": [
    "x = np.array([0.314, 0.25, 0.125, 2.256])\n",
    "\n",
    "x.min()\n"
   ]
  },
  {
   "cell_type": "code",
   "execution_count": 38,
   "metadata": {},
   "outputs": [
    {
     "data": {
      "text/plain": [
       "125.0"
      ]
     },
     "execution_count": 38,
     "metadata": {},
     "output_type": "execute_result"
    }
   ],
   "source": [
    "x.min() * 10**(-np.round(np.log10(x.min())) + 2)"
   ]
  },
  {
   "cell_type": "code",
   "execution_count": 41,
   "metadata": {},
   "outputs": [
    {
     "data": {
      "text/plain": [
       "1"
      ]
     },
     "execution_count": 41,
     "metadata": {},
     "output_type": "execute_result"
    }
   ],
   "source": [
    "np.array(wins).min()"
   ]
  },
  {
   "cell_type": "code",
   "execution_count": 48,
   "metadata": {},
   "outputs": [
    {
     "data": {
      "text/plain": [
       "<ufunc 'log10'>"
      ]
     },
     "execution_count": 48,
     "metadata": {},
     "output_type": "execute_result"
    }
   ],
   "source": [
    "np.log10"
   ]
  },
  {
   "cell_type": "code",
   "execution_count": 52,
   "metadata": {},
   "outputs": [
    {
     "data": {
      "image/png": "[encoded data removed]",
      "text/plain": [
       "<Figure size 432x288 with 1 Axes>"
      ]
     },
     "metadata": {
      "needs_background": "light"
     },
     "output_type": "display_data"
    }
   ],
   "source": [
    "wins = [[0.021,0.0325], [0.031,0.024], [0.01, 0.011257], [0.01, 0.0322]]\n",
    "\n",
    "scaling = 10**(-np.round(np.log10(np.array(wins).min())) + 2)\n",
    "\n",
    "positions = rpack.pack((int(w * scaling),\n",
    "                        int(h * scaling))\n",
    "                        for (w, h) in wins)\n",
    "\n",
    "fig,ax = plt.subplots(1)\n",
    "\n",
    "maxx = 0\n",
    "maxy = 0\n",
    "for ((x, y), (w, h)) in zip(positions, wins):\n",
    "    x = x / scaling\n",
    "    y = y / scaling\n",
    "    if x + w > maxx: maxx = x+w\n",
    "    if y + h > maxy: maxy = y+h        \n",
    "    rect = matplotlib.patches.Rectangle((x, y),w,h,linewidth=1,edgecolor='b',facecolor='red')\n",
    "    ax.add_patch(rect)\n",
    "\n",
    "ax.set_ylim(0, maxy)\n",
    "ax.set_xlim(0, maxx)\n",
    "\n",
    "plt.show()"
   ]
  },
  {
   "cell_type": "code",
   "execution_count": 53,
   "metadata": {},
   "outputs": [],
   "source": [
    "p = numpy.array(positions)"
   ]
  },
  {
   "cell_type": "code",
   "execution_count": 54,
   "metadata": {},
   "outputs": [
    {
     "data": {
      "text/plain": [
       "array([[  0,   0],\n",
       "       [  0, 325],\n",
       "       [  0, 565],\n",
       "       [210,   0]])"
      ]
     },
     "execution_count": 54,
     "metadata": {},
     "output_type": "execute_result"
    }
   ],
   "source": [
    "p"
   ]
  },
  {
   "cell_type": "code",
   "execution_count": 58,
   "metadata": {},
   "outputs": [
    {
     "data": {
      "text/plain": [
       "(210, 565)"
      ]
     },
     "execution_count": 58,
     "metadata": {},
     "output_type": "execute_result"
    }
   ],
   "source": [
    "p[:,0].max(), p[:,1].max()"
   ]
  },
  {
   "cell_type": "code",
   "execution_count": 62,
   "metadata": {},
   "outputs": [
    {
     "data": {
      "text/plain": [
       "(210, 565)"
      ]
     },
     "execution_count": 62,
     "metadata": {},
     "output_type": "execute_result"
    }
   ],
   "source": [
    "tuple(p.max(axis=0))"
   ]
  },
  {
   "cell_type": "code",
   "execution_count": 63,
   "metadata": {},
   "outputs": [],
   "source": [
    "a = np.array([1.2, 3.3, 4.4, 5.5, 6.6])"
   ]
  },
  {
   "cell_type": "code",
   "execution_count": 65,
   "metadata": {},
   "outputs": [
    {
     "data": {
      "text/plain": [
       "array([1, 3, 4, 5, 6])"
      ]
     },
     "execution_count": 65,
     "metadata": {},
     "output_type": "execute_result"
    }
   ],
   "source": [
    "np.array(a, dtype=int)"
   ]
  },
  {
   "cell_type": "code",
   "execution_count": 67,
   "metadata": {},
   "outputs": [
    {
     "data": {
      "text/plain": [
       "array([0, 1, 2, 3, 4, 5, 6, 7, 8, 9])"
      ]
     },
     "execution_count": 67,
     "metadata": {},
     "output_type": "execute_result"
    }
   ],
   "source": [
    "np.array([x for x in range(10)])"
   ]
  },
  {
   "cell_type": "code",
   "execution_count": 72,
   "metadata": {},
   "outputs": [
    {
     "data": {
      "text/plain": [
       "[[0, 0], [0, 325], [0, 565], [210, 0]]"
      ]
     },
     "execution_count": 72,
     "metadata": {},
     "output_type": "execute_result"
    }
   ],
   "source": [
    "[list(x) for x in np.array(positions)]"
   ]
  },
  {
   "cell_type": "code",
   "execution_count": 74,
   "metadata": {},
   "outputs": [],
   "source": [
    "p = np.array(positions)"
   ]
  },
  {
   "cell_type": "code",
   "execution_count": 80,
   "metadata": {},
   "outputs": [
    {
     "data": {
      "text/plain": [
       "array([  0, 325, 565,   0])"
      ]
     },
     "execution_count": 80,
     "metadata": {},
     "output_type": "execute_result"
    }
   ],
   "source": [
    "p[:,1]"
   ]
  },
  {
   "cell_type": "code",
   "execution_count": 92,
   "metadata": {},
   "outputs": [
    {
     "data": {
      "image/png": "[encoded data removed]",
      "text/plain": [
       "<Figure size 432x288 with 1 Axes>"
      ]
     },
     "metadata": {
      "needs_background": "light"
     },
     "output_type": "display_data"
    }
   ],
   "source": [
    "wins = [[2,3], [3,2], [1, 1], [1, 3]]\n",
    "\n",
    "\n",
    "packer = rectpack.newPacker(pack_algo=rectpack.SkylineBl) #, sort_algo=rectpack.SORT_RATIO)\n",
    "for i, (w, h) in enumerate(wins):\n",
    "    packer.add_rect(w, h, i)\n",
    "\n",
    "packer.add_bin(100, 100)\n",
    "packer.pack()\n",
    "\n",
    "fig,ax = plt.subplots(1)\n",
    "\n",
    "maxx = 0\n",
    "maxy = 0\n",
    "for b, x, y, w, h, rid in packer.rect_list():\n",
    "    if x + w > maxx: maxx = x+w\n",
    "    if y + h > maxy: maxy = y+h        \n",
    "    rect = matplotlib.patches.Rectangle((x, y),w,h,linewidth=1,edgecolor='b',facecolor='red')\n",
    "    ax.add_patch(rect)\n",
    "\n",
    "ax.set_ylim(0, maxy)\n",
    "ax.set_xlim(0, maxx)\n",
    "\n",
    "plt.show()"
   ]
  },
  {
   "cell_type": "code",
   "execution_count": null,
   "metadata": {},
   "outputs": [],
   "source": []
  }
 ],
 "metadata": {
  "kernelspec": {
   "display_name": "Python 3",
   "language": "python",
   "name": "python3"
  },
  "language_info": {
   "codemirror_mode": {
    "name": "ipython",
    "version": 3
   },
   "file_extension": ".py",
   "mimetype": "text/x-python",
   "name": "python",
   "nbconvert_exporter": "python",
   "pygments_lexer": "ipython3",
   "version": "3.6.7"
  }
 },
 "nbformat": 4,
 "nbformat_minor": 2
}
